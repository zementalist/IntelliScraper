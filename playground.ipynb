{
 "cells": [
  {
   "cell_type": "code",
   "execution_count": 1,
   "metadata": {},
   "outputs": [],
   "source": [
    "import pandas as pd"
   ]
  },
  {
   "cell_type": "code",
   "execution_count": 2,
   "metadata": {},
   "outputs": [],
   "source": [
    "df = pd.read_csv('data\\scraped_data\\Elon musk_tweets_2023-04-16.csv')"
   ]
  },
  {
   "cell_type": "code",
   "execution_count": 3,
   "metadata": {},
   "outputs": [
    {
     "data": {
      "text/html": [
       "<div>\n",
       "<style scoped>\n",
       "    .dataframe tbody tr th:only-of-type {\n",
       "        vertical-align: middle;\n",
       "    }\n",
       "\n",
       "    .dataframe tbody tr th {\n",
       "        vertical-align: top;\n",
       "    }\n",
       "\n",
       "    .dataframe thead th {\n",
       "        text-align: right;\n",
       "    }\n",
       "</style>\n",
       "<table border=\"1\" class=\"dataframe\">\n",
       "  <thead>\n",
       "    <tr style=\"text-align: right;\">\n",
       "      <th></th>\n",
       "      <th>Unnamed: 0</th>\n",
       "      <th>0</th>\n",
       "      <th>1</th>\n",
       "      <th>2</th>\n",
       "      <th>3</th>\n",
       "      <th>4</th>\n",
       "      <th>5</th>\n",
       "    </tr>\n",
       "  </thead>\n",
       "  <tbody>\n",
       "    <tr>\n",
       "      <th>0</th>\n",
       "      <td>0</td>\n",
       "      <td>2023-04-16 13:41:01+00:00</td>\n",
       "      <td>1647595957297479682</td>\n",
       "      <td>@theprism89 @elonmusk “On behalf of all Americ...</td>\n",
       "      <td>mrchonke</td>\n",
       "      <td>NaN</td>\n",
       "      <td>1.647298e+18</td>\n",
       "    </tr>\n",
       "    <tr>\n",
       "      <th>1</th>\n",
       "      <td>1</td>\n",
       "      <td>2023-04-16 13:41:01+00:00</td>\n",
       "      <td>1647595955418529792</td>\n",
       "      <td>@Thundercattttt0 @Rich_Cooper @elonmusk 🤣🤣🤣🤣</td>\n",
       "      <td>M2Oblankj</td>\n",
       "      <td>NaN</td>\n",
       "      <td>1.647342e+18</td>\n",
       "    </tr>\n",
       "    <tr>\n",
       "      <th>2</th>\n",
       "      <td>2</td>\n",
       "      <td>2023-04-16 13:41:01+00:00</td>\n",
       "      <td>1647595955313872896</td>\n",
       "      <td>@POTUS - have gun control in place or there wi...</td>\n",
       "      <td>Jhakas_Chokro</td>\n",
       "      <td>NaN</td>\n",
       "      <td>NaN</td>\n",
       "    </tr>\n",
       "    <tr>\n",
       "      <th>3</th>\n",
       "      <td>3</td>\n",
       "      <td>2023-04-16 13:41:01+00:00</td>\n",
       "      <td>1647595954638389250</td>\n",
       "      <td>@elonmusk @Simeon_Cps @FinancePoker</td>\n",
       "      <td>JunioSa15932149</td>\n",
       "      <td>NaN</td>\n",
       "      <td>1.647571e+18</td>\n",
       "    </tr>\n",
       "    <tr>\n",
       "      <th>4</th>\n",
       "      <td>4</td>\n",
       "      <td>2023-04-16 13:41:01+00:00</td>\n",
       "      <td>1647595954269216768</td>\n",
       "      <td>@elonmusk Where justice is captured, as in Mal...</td>\n",
       "      <td>EyeOnMalta</td>\n",
       "      <td>NaN</td>\n",
       "      <td>1.647596e+18</td>\n",
       "    </tr>\n",
       "  </tbody>\n",
       "</table>\n",
       "</div>"
      ],
      "text/plain": [
       "   Unnamed: 0                          0                    1   \n",
       "0           0  2023-04-16 13:41:01+00:00  1647595957297479682  \\\n",
       "1           1  2023-04-16 13:41:01+00:00  1647595955418529792   \n",
       "2           2  2023-04-16 13:41:01+00:00  1647595955313872896   \n",
       "3           3  2023-04-16 13:41:01+00:00  1647595954638389250   \n",
       "4           4  2023-04-16 13:41:01+00:00  1647595954269216768   \n",
       "\n",
       "                                                   2                3   4   \n",
       "0  @theprism89 @elonmusk “On behalf of all Americ...         mrchonke NaN  \\\n",
       "1       @Thundercattttt0 @Rich_Cooper @elonmusk 🤣🤣🤣🤣        M2Oblankj NaN   \n",
       "2  @POTUS - have gun control in place or there wi...    Jhakas_Chokro NaN   \n",
       "3                @elonmusk @Simeon_Cps @FinancePoker  JunioSa15932149 NaN   \n",
       "4  @elonmusk Where justice is captured, as in Mal...       EyeOnMalta NaN   \n",
       "\n",
       "              5  \n",
       "0  1.647298e+18  \n",
       "1  1.647342e+18  \n",
       "2           NaN  \n",
       "3  1.647571e+18  \n",
       "4  1.647596e+18  "
      ]
     },
     "execution_count": 3,
     "metadata": {},
     "output_type": "execute_result"
    }
   ],
   "source": [
    "df.head()"
   ]
  },
  {
   "cell_type": "code",
   "execution_count": 8,
   "metadata": {},
   "outputs": [
    {
     "data": {
      "text/plain": [
       "0     2023-04-16 13:41:01+00:00\n",
       "1     2023-04-16 13:41:01+00:00\n",
       "2     2023-04-16 13:41:01+00:00\n",
       "3     2023-04-16 13:41:01+00:00\n",
       "4     2023-04-16 13:41:01+00:00\n",
       "5     2023-04-16 13:41:00+00:00\n",
       "6     2023-04-16 13:40:59+00:00\n",
       "7     2023-04-16 13:40:58+00:00\n",
       "8     2023-04-16 13:40:58+00:00\n",
       "9     2023-04-16 13:40:58+00:00\n",
       "10    2023-04-16 13:40:58+00:00\n",
       "Name: 0, dtype: object"
      ]
     },
     "execution_count": 8,
     "metadata": {},
     "output_type": "execute_result"
    }
   ],
   "source": [
    "df['0']"
   ]
  },
  {
   "cell_type": "code",
   "execution_count": 7,
   "metadata": {},
   "outputs": [],
   "source": [
    "from datetime import datetime\n",
    "\n",
    "# datetime_str = '2023-04-16 15:50:32'\n",
    "datetime_str = '2023-04-16'\n",
    "\n",
    "datetime_object = datetime.strptime(datetime_str, '%Y-%m-%d')"
   ]
  },
  {
   "cell_type": "code",
   "execution_count": 8,
   "metadata": {},
   "outputs": [
    {
     "data": {
      "text/plain": [
       "datetime.datetime(2023, 4, 16, 0, 0)"
      ]
     },
     "execution_count": 8,
     "metadata": {},
     "output_type": "execute_result"
    }
   ],
   "source": [
    "datetime_object"
   ]
  },
  {
   "cell_type": "code",
   "execution_count": 9,
   "metadata": {},
   "outputs": [],
   "source": [
    "import snscrape.modules.twitter as ts\n",
    "from tqdm import tqdm"
   ]
  },
  {
   "cell_type": "code",
   "execution_count": 11,
   "metadata": {},
   "outputs": [
    {
     "name": "stderr",
     "output_type": "stream",
     "text": [
      "  0%|          | 0/2 [00:00<?, ?it/s]Error retrieving https://api.twitter.com/2/search/adaptive.json?include_profile_interstitial_type=1&include_blocking=1&include_blocked_by=1&include_followed_by=1&include_want_retweets=1&include_mute_edge=1&include_can_dm=1&include_can_media_tag=1&include_ext_has_nft_avatar=1&include_ext_is_blue_verified=1&include_ext_verified_type=1&skip_status=1&cards_platform=Web-12&include_cards=1&include_ext_alt_text=true&include_ext_limited_action_results=false&include_quote_count=true&include_reply_count=1&tweet_mode=extended&include_ext_collab_control=true&include_ext_views=true&include_entities=true&include_user_entities=true&include_ext_media_color=true&include_ext_media_availability=true&include_ext_sensitive_media_warning=true&include_ext_trusted_friends_metadata=true&send_error_codes=true&simple_quoted_tweet=true&q=%40telecomEgypt&tweet_search_mode=live&count=20&query_source=spelling_expansion_revert_click&pc=1&spelling_corrections=1&include_ext_edit_control=true&ext=mediaStats%2ChighlightedLabel%2ChasNftAvatar%2CvoiceInfo%2Cenrichments%2CsuperFollowMetadata%2CunmentionInfo%2CeditControl%2Ccollab_control%2Cvibe: blocked (403)\n",
      "4 requests to https://api.twitter.com/2/search/adaptive.json?include_profile_interstitial_type=1&include_blocking=1&include_blocked_by=1&include_followed_by=1&include_want_retweets=1&include_mute_edge=1&include_can_dm=1&include_can_media_tag=1&include_ext_has_nft_avatar=1&include_ext_is_blue_verified=1&include_ext_verified_type=1&skip_status=1&cards_platform=Web-12&include_cards=1&include_ext_alt_text=true&include_ext_limited_action_results=false&include_quote_count=true&include_reply_count=1&tweet_mode=extended&include_ext_collab_control=true&include_ext_views=true&include_entities=true&include_user_entities=true&include_ext_media_color=true&include_ext_media_availability=true&include_ext_sensitive_media_warning=true&include_ext_trusted_friends_metadata=true&send_error_codes=true&simple_quoted_tweet=true&q=%40telecomEgypt&tweet_search_mode=live&count=20&query_source=spelling_expansion_revert_click&pc=1&spelling_corrections=1&include_ext_edit_control=true&ext=mediaStats%2ChighlightedLabel%2ChasNftAvatar%2CvoiceInfo%2Cenrichments%2CsuperFollowMetadata%2CunmentionInfo%2CeditControl%2Ccollab_control%2Cvibe failed, giving up.\n",
      "Errors: blocked (403), blocked (403), blocked (403), blocked (403)\n",
      "  0%|          | 0/2 [00:11<?, ?it/s]\n"
     ]
    },
    {
     "ename": "ScraperException",
     "evalue": "4 requests to https://api.twitter.com/2/search/adaptive.json?include_profile_interstitial_type=1&include_blocking=1&include_blocked_by=1&include_followed_by=1&include_want_retweets=1&include_mute_edge=1&include_can_dm=1&include_can_media_tag=1&include_ext_has_nft_avatar=1&include_ext_is_blue_verified=1&include_ext_verified_type=1&skip_status=1&cards_platform=Web-12&include_cards=1&include_ext_alt_text=true&include_ext_limited_action_results=false&include_quote_count=true&include_reply_count=1&tweet_mode=extended&include_ext_collab_control=true&include_ext_views=true&include_entities=true&include_user_entities=true&include_ext_media_color=true&include_ext_media_availability=true&include_ext_sensitive_media_warning=true&include_ext_trusted_friends_metadata=true&send_error_codes=true&simple_quoted_tweet=true&q=%40telecomEgypt&tweet_search_mode=live&count=20&query_source=spelling_expansion_revert_click&pc=1&spelling_corrections=1&include_ext_edit_control=true&ext=mediaStats%2ChighlightedLabel%2ChasNftAvatar%2CvoiceInfo%2Cenrichments%2CsuperFollowMetadata%2CunmentionInfo%2CeditControl%2Ccollab_control%2Cvibe failed, giving up.",
     "output_type": "error",
     "traceback": [
      "\u001b[1;31m---------------------------------------------------------------------------\u001b[0m",
      "\u001b[1;31mScraperException\u001b[0m                          Traceback (most recent call last)",
      "Cell \u001b[1;32mIn[11], line 6\u001b[0m\n\u001b[0;32m      3\u001b[0m full_data \u001b[39m=\u001b[39m []\n\u001b[0;32m      4\u001b[0m printa \u001b[39m=\u001b[39m []\n\u001b[1;32m----> 6\u001b[0m \u001b[39mfor\u001b[39;00m i, tweet \u001b[39min\u001b[39;00m tqdm(\u001b[39menumerate\u001b[39m(scraper\u001b[39m.\u001b[39mget_items()), total\u001b[39m=\u001b[39m \u001b[39m2\u001b[39m):\n\u001b[0;32m      8\u001b[0m     tweet_cleaned \u001b[39m=\u001b[39m [tweet\u001b[39m.\u001b[39mdate, tweet\u001b[39m.\u001b[39mid, tweet\u001b[39m.\u001b[39mrawContent , tweet\u001b[39m.\u001b[39muser\u001b[39m.\u001b[39musername, tweet\u001b[39m.\u001b[39mretweetedTweet, tweet\u001b[39m.\u001b[39minReplyToTweetId]\n\u001b[0;32m      9\u001b[0m     current_date_obj \u001b[39m=\u001b[39m tweet\u001b[39m.\u001b[39mdate\u001b[39m.\u001b[39mdate()\n",
      "File \u001b[1;32md:\\Projects\\IntelliScraper\\.venv\\lib\\site-packages\\tqdm\\std.py:1178\u001b[0m, in \u001b[0;36mtqdm.__iter__\u001b[1;34m(self)\u001b[0m\n\u001b[0;32m   1175\u001b[0m time \u001b[39m=\u001b[39m \u001b[39mself\u001b[39m\u001b[39m.\u001b[39m_time\n\u001b[0;32m   1177\u001b[0m \u001b[39mtry\u001b[39;00m:\n\u001b[1;32m-> 1178\u001b[0m     \u001b[39mfor\u001b[39;00m obj \u001b[39min\u001b[39;00m iterable:\n\u001b[0;32m   1179\u001b[0m         \u001b[39myield\u001b[39;00m obj\n\u001b[0;32m   1180\u001b[0m         \u001b[39m# Update and possibly print the progressbar.\u001b[39;00m\n\u001b[0;32m   1181\u001b[0m         \u001b[39m# Note: does not call self.update(1) for speed optimisation.\u001b[39;00m\n",
      "File \u001b[1;32md:\\Projects\\IntelliScraper\\.venv\\lib\\site-packages\\snscrape\\modules\\twitter.py:1661\u001b[0m, in \u001b[0;36mTwitterSearchScraper.get_items\u001b[1;34m(self)\u001b[0m\n\u001b[0;32m   1658\u001b[0m params \u001b[39m=\u001b[39m paginationParams\u001b[39m.\u001b[39mcopy()\n\u001b[0;32m   1659\u001b[0m \u001b[39mdel\u001b[39;00m params[\u001b[39m'\u001b[39m\u001b[39mcursor\u001b[39m\u001b[39m'\u001b[39m]\n\u001b[1;32m-> 1661\u001b[0m \u001b[39mfor\u001b[39;00m obj \u001b[39min\u001b[39;00m \u001b[39mself\u001b[39m\u001b[39m.\u001b[39m_iter_api_data(\u001b[39m'\u001b[39m\u001b[39mhttps://api.twitter.com/2/search/adaptive.json\u001b[39m\u001b[39m'\u001b[39m, _TwitterAPIType\u001b[39m.\u001b[39mV2, params, paginationParams, cursor \u001b[39m=\u001b[39m \u001b[39mself\u001b[39m\u001b[39m.\u001b[39m_cursor):\n\u001b[0;32m   1662\u001b[0m \t\u001b[39myield from\u001b[39;00m \u001b[39mself\u001b[39m\u001b[39m.\u001b[39m_v2_timeline_instructions_to_tweets_or_users(obj)\n",
      "File \u001b[1;32md:\\Projects\\IntelliScraper\\.venv\\lib\\site-packages\\snscrape\\modules\\twitter.py:761\u001b[0m, in \u001b[0;36m_TwitterAPIScraper._iter_api_data\u001b[1;34m(self, endpoint, apiType, params, paginationParams, cursor, direction)\u001b[0m\n\u001b[0;32m    759\u001b[0m \u001b[39mwhile\u001b[39;00m \u001b[39mTrue\u001b[39;00m:\n\u001b[0;32m    760\u001b[0m \t_logger\u001b[39m.\u001b[39minfo(\u001b[39mf\u001b[39m\u001b[39m'\u001b[39m\u001b[39mRetrieving scroll page \u001b[39m\u001b[39m{\u001b[39;00mcursor\u001b[39m}\u001b[39;00m\u001b[39m'\u001b[39m)\n\u001b[1;32m--> 761\u001b[0m \tobj \u001b[39m=\u001b[39m \u001b[39mself\u001b[39;49m\u001b[39m.\u001b[39;49m_get_api_data(endpoint, apiType, reqParams)\n\u001b[0;32m    762\u001b[0m \t\u001b[39myield\u001b[39;00m obj\n\u001b[0;32m    764\u001b[0m \t\u001b[39m# No data format test, just a hard and loud crash if anything's wrong :-)\u001b[39;00m\n",
      "File \u001b[1;32md:\\Projects\\IntelliScraper\\.venv\\lib\\site-packages\\snscrape\\modules\\twitter.py:727\u001b[0m, in \u001b[0;36m_TwitterAPIScraper._get_api_data\u001b[1;34m(self, endpoint, apiType, params)\u001b[0m\n\u001b[0;32m    725\u001b[0m \u001b[39mif\u001b[39;00m apiType \u001b[39mis\u001b[39;00m _TwitterAPIType\u001b[39m.\u001b[39mGRAPHQL:\n\u001b[0;32m    726\u001b[0m \tparams \u001b[39m=\u001b[39m urllib\u001b[39m.\u001b[39mparse\u001b[39m.\u001b[39murlencode({k: json\u001b[39m.\u001b[39mdumps(v, separators \u001b[39m=\u001b[39m (\u001b[39m'\u001b[39m\u001b[39m,\u001b[39m\u001b[39m'\u001b[39m, \u001b[39m'\u001b[39m\u001b[39m:\u001b[39m\u001b[39m'\u001b[39m)) \u001b[39mfor\u001b[39;00m k, v \u001b[39min\u001b[39;00m params\u001b[39m.\u001b[39mitems()}, quote_via \u001b[39m=\u001b[39m urllib\u001b[39m.\u001b[39mparse\u001b[39m.\u001b[39mquote)\n\u001b[1;32m--> 727\u001b[0m r \u001b[39m=\u001b[39m \u001b[39mself\u001b[39;49m\u001b[39m.\u001b[39;49m_get(endpoint, params \u001b[39m=\u001b[39;49m params, headers \u001b[39m=\u001b[39;49m \u001b[39mself\u001b[39;49m\u001b[39m.\u001b[39;49m_apiHeaders, responseOkCallback \u001b[39m=\u001b[39;49m \u001b[39mself\u001b[39;49m\u001b[39m.\u001b[39;49m_check_api_response)\n\u001b[0;32m    728\u001b[0m \u001b[39mtry\u001b[39;00m:\n\u001b[0;32m    729\u001b[0m \tobj \u001b[39m=\u001b[39m r\u001b[39m.\u001b[39mjson()\n",
      "File \u001b[1;32md:\\Projects\\IntelliScraper\\.venv\\lib\\site-packages\\snscrape\\base.py:251\u001b[0m, in \u001b[0;36mScraper._get\u001b[1;34m(self, *args, **kwargs)\u001b[0m\n\u001b[0;32m    250\u001b[0m \u001b[39mdef\u001b[39;00m \u001b[39m_get\u001b[39m(\u001b[39mself\u001b[39m, \u001b[39m*\u001b[39margs, \u001b[39m*\u001b[39m\u001b[39m*\u001b[39mkwargs):\n\u001b[1;32m--> 251\u001b[0m \t\u001b[39mreturn\u001b[39;00m \u001b[39mself\u001b[39m\u001b[39m.\u001b[39m_request(\u001b[39m'\u001b[39m\u001b[39mGET\u001b[39m\u001b[39m'\u001b[39m, \u001b[39m*\u001b[39margs, \u001b[39m*\u001b[39m\u001b[39m*\u001b[39mkwargs)\n",
      "File \u001b[1;32md:\\Projects\\IntelliScraper\\.venv\\lib\\site-packages\\snscrape\\base.py:247\u001b[0m, in \u001b[0;36mScraper._request\u001b[1;34m(self, method, url, params, data, headers, timeout, responseOkCallback, allowRedirects, proxies)\u001b[0m\n\u001b[0;32m    245\u001b[0m \t_logger\u001b[39m.\u001b[39mfatal(msg)\n\u001b[0;32m    246\u001b[0m \t_logger\u001b[39m.\u001b[39mfatal(\u001b[39mf\u001b[39m\u001b[39m'\u001b[39m\u001b[39mErrors: \u001b[39m\u001b[39m{\u001b[39;00m\u001b[39m\"\u001b[39m\u001b[39m, \u001b[39m\u001b[39m\"\u001b[39m\u001b[39m.\u001b[39mjoin(errors)\u001b[39m}\u001b[39;00m\u001b[39m'\u001b[39m)\n\u001b[1;32m--> 247\u001b[0m \t\u001b[39mraise\u001b[39;00m ScraperException(msg)\n\u001b[0;32m    248\u001b[0m \u001b[39mraise\u001b[39;00m \u001b[39mRuntimeError\u001b[39;00m(\u001b[39m'\u001b[39m\u001b[39mReached unreachable code\u001b[39m\u001b[39m'\u001b[39m)\n",
      "\u001b[1;31mScraperException\u001b[0m: 4 requests to https://api.twitter.com/2/search/adaptive.json?include_profile_interstitial_type=1&include_blocking=1&include_blocked_by=1&include_followed_by=1&include_want_retweets=1&include_mute_edge=1&include_can_dm=1&include_can_media_tag=1&include_ext_has_nft_avatar=1&include_ext_is_blue_verified=1&include_ext_verified_type=1&skip_status=1&cards_platform=Web-12&include_cards=1&include_ext_alt_text=true&include_ext_limited_action_results=false&include_quote_count=true&include_reply_count=1&tweet_mode=extended&include_ext_collab_control=true&include_ext_views=true&include_entities=true&include_user_entities=true&include_ext_media_color=true&include_ext_media_availability=true&include_ext_sensitive_media_warning=true&include_ext_trusted_friends_metadata=true&send_error_codes=true&simple_quoted_tweet=true&q=%40telecomEgypt&tweet_search_mode=live&count=20&query_source=spelling_expansion_revert_click&pc=1&spelling_corrections=1&include_ext_edit_control=true&ext=mediaStats%2ChighlightedLabel%2ChasNftAvatar%2CvoiceInfo%2Cenrichments%2CsuperFollowMetadata%2CunmentionInfo%2CeditControl%2Ccollab_control%2Cvibe failed, giving up."
     ]
    }
   ],
   "source": [
    "scraper = ts.TwitterSearchScraper('@telecomEgypt')\n",
    "        \n",
    "full_data = []\n",
    "printa = []\n",
    "\n",
    "for i, tweet in tqdm(enumerate(scraper.get_items()), total= 2):\n",
    "            \n",
    "    tweet_cleaned = [tweet.date, tweet.id, tweet.rawContent , tweet.user.username, tweet.retweetedTweet, tweet.inReplyToTweetId]\n",
    "    current_date_obj = tweet.date.date()\n",
    "    printa.append(current_date_obj)\n",
    "    if (i > 2):\n",
    "        break\n",
    "    full_data.append(tweet_cleaned)\n",
    "    tweet_df = pd.DataFrame(full_data)"
   ]
  },
  {
   "cell_type": "code",
   "execution_count": 35,
   "metadata": {},
   "outputs": [
    {
     "data": {
      "text/plain": [
       "[datetime.date(2023, 4, 16),\n",
       " datetime.date(2023, 4, 16),\n",
       " datetime.date(2023, 4, 16),\n",
       " datetime.date(2023, 4, 16)]"
      ]
     },
     "execution_count": 35,
     "metadata": {},
     "output_type": "execute_result"
    }
   ],
   "source": [
    "printa"
   ]
  },
  {
   "cell_type": "code",
   "execution_count": 31,
   "metadata": {},
   "outputs": [
    {
     "name": "stdout",
     "output_type": "stream",
     "text": [
      "2023-04-16\n"
     ]
    }
   ],
   "source": [
    "now = datetime.now()\n",
    "da = now.date()\n",
    "month = now.month\n",
    "day = now.day\n",
    "print(da)"
   ]
  },
  {
   "cell_type": "code",
   "execution_count": 1,
   "metadata": {},
   "outputs": [],
   "source": [
    "# Facebook Scraper\n",
    "\n",
    "from selenium import webdriver\n",
    "from selenium.webdriver.common.keys import Keys\n",
    "from selenium.webdriver.support import expected_conditions as EC\n",
    "from selenium.webdriver.common.by import By\n",
    "from selenium.webdriver.support.wait import WebDriverWait\n",
    "import time"
   ]
  },
  {
   "cell_type": "code",
   "execution_count": 2,
   "metadata": {},
   "outputs": [],
   "source": [
    "#code by pythonjar, not me\n",
    "chrome_options = webdriver.ChromeOptions()\n",
    "prefs = {\"profile.default_content_setting_values.notifications\" : 2}\n",
    "chrome_options.add_experimental_option(\"prefs\",prefs)"
   ]
  },
  {
   "cell_type": "code",
   "execution_count": 3,
   "metadata": {},
   "outputs": [
    {
     "name": "stderr",
     "output_type": "stream",
     "text": [
      "C:\\Users\\Islam.Elmageid\\AppData\\Local\\Temp\\ipykernel_16856\\4053246472.py:2: DeprecationWarning: executable_path has been deprecated, please pass in a Service object\n",
      "  driver = webdriver.Chrome('C:/chromedriver_win32/chromedriver.exe', chrome_options=chrome_options)\n",
      "C:\\Users\\Islam.Elmageid\\AppData\\Local\\Temp\\ipykernel_16856\\4053246472.py:2: DeprecationWarning: use options instead of chrome_options\n",
      "  driver = webdriver.Chrome('C:/chromedriver_win32/chromedriver.exe', chrome_options=chrome_options)\n"
     ]
    }
   ],
   "source": [
    "#specify the path to chromedriver.exe (download and save on your computer)\n",
    "driver = webdriver.Chrome('C:/chromedriver_win32/chromedriver.exe', chrome_options=chrome_options)\n",
    "\n",
    "#open the webpage\n",
    "driver.get(\"http://www.facebook.com\")\n",
    "\n",
    "#target username\n",
    "username = WebDriverWait(driver, 10).until(EC.element_to_be_clickable((By.CSS_SELECTOR, \"input[name='email']\")))\n",
    "password = WebDriverWait(driver, 10).until(EC.element_to_be_clickable((By.CSS_SELECTOR, \"input[name='pass']\")))\n",
    "\n",
    "#enter username and password\n",
    "username.clear()\n",
    "username.send_keys(\"TelecomEgyptSocial@proton.me\")\n",
    "password.clear()\n",
    "password.send_keys(\"KVJyRxV3Ec:MVU2\")\n",
    "\n",
    "#target the login button and click it\n",
    "button = WebDriverWait(driver, 2).until(EC.element_to_be_clickable((By.CSS_SELECTOR, \"button[type='submit']\"))).click()\n",
    "\n",
    "#We are logged in!"
   ]
  },
  {
   "cell_type": "code",
   "execution_count": 4,
   "metadata": {},
   "outputs": [
    {
     "name": "stdout",
     "output_type": "stream",
     "text": [
      "Start Scrolling\n",
      "scrolled!!!!!!!!!!!!!!!!!!!!!!!\n"
     ]
    }
   ],
   "source": [
    "#wait 10 seconds to allow your new page to load\n",
    "time.sleep(10)\n",
    "\n",
    "\n",
    "driver.get(\"https://www.facebook.com/TelecomEgypt/community/\")\n",
    "time.sleep(10)\n",
    "    \n",
    "#scroll down\n",
    "n_scrolls = 1\n",
    "for j in range(0, n_scrolls):\n",
    "    # driver.execute_script(\"window.scrollTo(0, document.body.scrollHeight);\")\n",
    "    print('Start Scrolling')\n",
    "    driver.execute_script(\"window.scrollTo(0, document.body.scrollHeight);\")\n",
    "    time.sleep(3)\n",
    "    driver.execute_script(\"window.scrollBy(0, -window.innerHeight/2);\")\n",
    "    print('scrolled!!!!!!!!!!!!!!!!!!!!!!!')\n",
    "    time.sleep(10)"
   ]
  },
  {
   "cell_type": "code",
   "execution_count": 5,
   "metadata": {},
   "outputs": [
    {
     "name": "stderr",
     "output_type": "stream",
     "text": [
      "C:\\Users\\Islam.Elmageid\\AppData\\Local\\Temp\\ipykernel_16856\\96763728.py:2: DeprecationWarning: find_elements_by_tag_name is deprecated. Please use find_elements(by=By.TAG_NAME, value=name) instead\n",
      "  anchors = driver.find_elements_by_tag_name('a')\n"
     ]
    },
    {
     "name": "stdout",
     "output_type": "stream",
     "text": [
      "Found 3 links to posts\n"
     ]
    },
    {
     "data": {
      "text/plain": [
       "['https://www.facebook.com/TelecomEgypt/posts/pfbid02ESggjxCTaCmSzC2EKqCCw896PmT9chPcNdoogknoqJhrv7ayh7dpmJE3F2ZVXfPdl?__cft__[0]=AZV0pzc-QW5JAsJ1PmTIU5secv2iJ3q0SCXebtqAGoGZvqw9rhO_cPV-AB70Cn_E8cdIZylpS4W4ZTyTDJW8cClJh1tXzsmkC03h_UHi8rSvol0_iNCppX50CZiAzS7jJ8fk0T5BrQmHtpEePow2jYbznPQosi8A486XHFAUIEEL5heMv7LU073g_-3ZiFVjdfg&__tn__=%2CO%2CP-R',\n",
       " 'https://www.facebook.com/TelecomEgypt/posts/pfbid02ESggjxCTaCmSzC2EKqCCw896PmT9chPcNdoogknoqJhrv7ayh7dpmJE3F2ZVXfPdl?comment_id=6092871227497862&__cft__[0]=AZV0pzc-QW5JAsJ1PmTIU5secv2iJ3q0SCXebtqAGoGZvqw9rhO_cPV-AB70Cn_E8cdIZylpS4W4ZTyTDJW8cClJh1tXzsmkC03h_UHi8rSvol0_iNCppX50CZiAzS7jJ8fk0T5BrQmHtpEePow2jYbznPQosi8A486XHFAUIEEL5heMv7LU073g_-3ZiFVjdfg&__tn__=R]-R',\n",
       " 'https://www.facebook.com/TelecomEgypt/posts/pfbid02ESggjxCTaCmSzC2EKqCCw896PmT9chPcNdoogknoqJhrv7ayh7dpmJE3F2ZVXfPdl?comment_id=6092871227497862&reply_comment_id=3116101562020511&__cft__[0]=AZV0pzc-QW5JAsJ1PmTIU5secv2iJ3q0SCXebtqAGoGZvqw9rhO_cPV-AB70Cn_E8cdIZylpS4W4ZTyTDJW8cClJh1tXzsmkC03h_UHi8rSvol0_iNCppX50CZiAzS7jJ8fk0T5BrQmHtpEePow2jYbznPQosi8A486XHFAUIEEL5heMv7LU073g_-3ZiFVjdfg&__tn__=R]-R']"
      ]
     },
     "execution_count": 5,
     "metadata": {},
     "output_type": "execute_result"
    }
   ],
   "source": [
    "#target all the link elements on the page\n",
    "anchors = driver.find_elements_by_tag_name('a')\n",
    "anchors = [a.get_attribute('href') for a in anchors]\n",
    "#narrow down all links to posts links only\n",
    "# TODO: Change username\n",
    "anchors = [a for a in anchors if str(a).startswith(\"https://www.facebook.com/TelecomEgypt/posts/\")]\n",
    "print('Found ' + str(len(anchors)) + ' links to posts')\n",
    "anchors[0:5]"
   ]
  },
  {
   "cell_type": "code",
   "execution_count": 6,
   "metadata": {},
   "outputs": [
    {
     "name": "stdout",
     "output_type": "stream",
     "text": [
      "بنفكرك بدفع فاتورة أبريل لخط عملاء وي أرضي الفاتورة\n",
      "الدفع من خلال: منافذ وفروع وي، فوري، تطبيق WE pay ، مصاري، خدماتي، BEE، مكاتب البريد المصري، سداد، أمان، وحدات البيع المتنقلة\n",
      "https://billing.te.eg/ar-EG  أو من خلال موقعنا\n",
      "#وي \n",
      "#غير_أي_حد\n"
     ]
    },
    {
     "name": "stderr",
     "output_type": "stream",
     "text": [
      "C:\\Users\\Islam.Elmageid\\AppData\\Local\\Temp\\ipykernel_16856\\2052041069.py:3: DeprecationWarning: find_elements_by_xpath is deprecated. Please use find_elements(by=By.XPATH, value=xpath) instead\n",
      "  elements = driver.find_elements_by_xpath('/html/body/div[1]/div/div[1]/div/div[3]/div/div/div/div[1]/div[1]/div[4]/div[1]/div/div/div/div/div/div/div/div/div/div[1]/div/div[2]/div/div/div[3]/div[1]/div/div/div/span')\n"
     ]
    }
   ],
   "source": [
    "driver.get(\"https://www.facebook.com/TelecomEgypt/posts/pfbid0pQqSa4snxNH8Rt9SEJXLaZZMFvka2kcYhiLtFSx82jvcdJEmXk2Cjjz7RHWqByJKl\")\n",
    "time.sleep(3)\n",
    "elements = driver.find_elements_by_xpath('/html/body/div[1]/div/div[1]/div/div[3]/div/div/div/div[1]/div[1]/div[4]/div[1]/div/div/div/div/div/div/div/div/div/div[1]/div/div[2]/div/div/div[3]/div[1]/div/div/div/span')\n",
    "for element in elements:\n",
    "    print(element.text)"
   ]
  },
  {
   "cell_type": "code",
   "execution_count": 8,
   "metadata": {},
   "outputs": [
    {
     "name": "stdout",
     "output_type": "stream",
     "text": [
      "Mohamed Alkfas\n",
      "جهاز الماي فاي بكام\n"
     ]
    }
   ],
   "source": [
    "elements = driver.find_elements(by=By.XPATH, value='/html/body/div[1]/div/div[1]/div/div[3]/div/div/div/div[1]/div[1]/div[4]/div[1]/div/div/div/div/div/div/div/div/div/div[1]/div/div[2]/div/div/div[4]/div/div/div[2]/ul/li[11]/div[1]/div[2]/div[2]/div/div[1]/div/div/div/div')\n",
    "for element in elements:\n",
    "    print(element.text)"
   ]
  },
  {
   "cell_type": "code",
   "execution_count": 15,
   "metadata": {},
   "outputs": [
    {
     "data": {
      "text/plain": [
       "'4.2.0'"
      ]
     },
     "execution_count": 15,
     "metadata": {},
     "output_type": "execute_result"
    }
   ],
   "source": [
    "import selenium\n",
    "selenium.__version__"
   ]
  },
  {
   "cell_type": "code",
   "execution_count": null,
   "metadata": {},
   "outputs": [],
   "source": [
    "###############################################################################"
   ]
  },
  {
   "cell_type": "code",
   "execution_count": 7,
   "metadata": {},
   "outputs": [],
   "source": [
    "from selenium import webdriver\n",
    "from selenium.webdriver.common.keys import Keys\n",
    "from selenium.webdriver.support import expected_conditions as EC\n",
    "from selenium.webdriver.common.by import By\n",
    "from selenium.webdriver.support.wait import WebDriverWait\n",
    "import time"
   ]
  },
  {
   "cell_type": "code",
   "execution_count": 8,
   "metadata": {},
   "outputs": [],
   "source": [
    "#code by pythonjar, not me\n",
    "chrome_options = webdriver.ChromeOptions()\n",
    "prefs = {\"profile.default_content_setting_values.notifications\" : 2}\n",
    "chrome_options.add_experimental_option(\"prefs\",prefs)"
   ]
  },
  {
   "cell_type": "code",
   "execution_count": 9,
   "metadata": {},
   "outputs": [
    {
     "name": "stderr",
     "output_type": "stream",
     "text": [
      "C:\\Users\\Islam.Elmageid\\AppData\\Local\\Temp\\ipykernel_40480\\3431087280.py:2: DeprecationWarning: executable_path has been deprecated, please pass in a Service object\n",
      "  driver = webdriver.Chrome('C:/chromedriver_win32/chromedriver.exe', options=chrome_options)\n"
     ]
    }
   ],
   "source": [
    "#specify the path to chromedriver.exe (download and save on your computer)\n",
    "driver = webdriver.Chrome('C:/chromedriver_win32/chromedriver.exe', options=chrome_options)\n",
    "\n",
    "#open the webpage\n",
    "driver.get(\"https://twitter.com/i/flow/login\")\n",
    "\n",
    "\n",
    "\n",
    "time.sleep(15)\n",
    "\n",
    "# enter username\n",
    "username = driver.find_element(By.TAG_NAME, \"input\")\n",
    "username.send_keys(\"Mohamed4853448\")\n",
    "\n",
    "# press on the \"next\" button\n",
    "all_buttons = driver.find_elements(\n",
    "    By.XPATH, \"//div[@role='button']\"\n",
    ")\n",
    "all_buttons[-2].click()\n",
    "\n",
    "time.sleep(5)\n",
    "\n",
    "# enter password\n",
    "password = driver.find_element(\n",
    "    By.XPATH, \"//input[@type='password']\"\n",
    ")\n",
    "password.send_keys(\"iammohamed12345\")\n",
    "\n",
    "time.sleep(5)\n",
    "\n",
    "# press on the login button\n",
    "all_buttons = driver.find_elements(\n",
    "    By.XPATH, \"//div[@role='button']\"\n",
    ")\n",
    "all_buttons[-1].click()\n",
    "\n",
    "time.sleep(5)\n",
    "#We are logged in!"
   ]
  },
  {
   "cell_type": "code",
   "execution_count": 10,
   "metadata": {},
   "outputs": [
    {
     "name": "stdout",
     "output_type": "stream",
     "text": [
      "Found 3 links to posts\n",
      "['https://twitter.com/telecomegypt/status/1653020975359721473',\n",
      " 'https://twitter.com/telecomegypt/status/1657416683009503233',\n",
      " 'https://twitter.com/telecomegypt/status/1657362106499358720']\n",
      "0 scrolled!!!!!!!!!!!!!!!!!!!!!!!\n",
      "Found 5 links to posts\n",
      "['https://twitter.com/telecomegypt/status/1657416683009503233',\n",
      " 'https://twitter.com/telecomegypt/status/1657362106499358720',\n",
      " 'https://twitter.com/telecomegypt/status/1657046927626706944',\n",
      " 'https://twitter.com/telecomegypt/status/1656981583352479744',\n",
      " 'https://twitter.com/telecomegypt/status/1656738900868493319']\n",
      "1 scrolled!!!!!!!!!!!!!!!!!!!!!!!\n"
     ]
    }
   ],
   "source": [
    "#wait 10 seconds to allow your new page to load\n",
    "time.sleep(10)\n",
    "from pprint import pprint\n",
    "\n",
    "all_anchors = set()\n",
    "\n",
    "driver.get(\"https://www.twitter.com/TelecomEgypt/\")\n",
    "time.sleep(5)\n",
    "\n",
    "scroll_from = '0'\n",
    "scroll_to = 'document.body.scrollHeight'\n",
    "#scroll down\n",
    "n_scrolls = 2\n",
    "for j in range(0, n_scrolls):\n",
    "    # driver.execute_script(\"window.scrollTo(0, document.body.scrollHeight);\")\n",
    "    anchors = []\n",
    "    #target all the link elements on the page\n",
    "    anchors = driver.find_elements(by=By.TAG_NAME, value='a')\n",
    "    anchors = [a.get_attribute('href') for a in anchors]\n",
    "    #narrow down all links to tweets links only\n",
    "    #TODO: change the username\n",
    "    anchors = [a for a in anchors if (str(a).startswith(\"https://twitter.com/telecomegypt/status/\") and str(a[-8]).isdigit())]\n",
    "    for a in anchors:\n",
    "        all_anchors.add(a)\n",
    "    print('Found ' + str(len(anchors)) + ' links to posts')\n",
    "    pprint(anchors)\n",
    "    driver.find_element(by=By.TAG_NAME, value='body').send_keys(Keys.PAGE_DOWN)\n",
    "    driver.find_element(by=By.TAG_NAME, value='body').send_keys(Keys.PAGE_DOWN)\n",
    "    time.sleep(0.5)\n",
    "    driver.find_element(by=By.TAG_NAME, value='body').send_keys(Keys.PAGE_DOWN)\n",
    "    driver.find_element(by=By.TAG_NAME, value='body').send_keys(Keys.PAGE_DOWN)\n",
    "    time.sleep(0.5)\n",
    "    driver.find_element(by=By.TAG_NAME, value='body').send_keys(Keys.PAGE_DOWN)\n",
    "    driver.find_element(by=By.TAG_NAME, value='body').send_keys(Keys.PAGE_DOWN)\n",
    "    # time.sleep(3)\n",
    "\n",
    "    print(j, 'scrolled!!!!!!!!!!!!!!!!!!!!!!!')\n",
    "    time.sleep(10)"
   ]
  },
  {
   "cell_type": "code",
   "execution_count": 11,
   "metadata": {},
   "outputs": [
    {
     "name": "stdout",
     "output_type": "stream",
     "text": [
      "{'https://twitter.com/telecomegypt/status/1653020975359721473',\n",
      " 'https://twitter.com/telecomegypt/status/1656738900868493319',\n",
      " 'https://twitter.com/telecomegypt/status/1656981583352479744',\n",
      " 'https://twitter.com/telecomegypt/status/1657046927626706944',\n",
      " 'https://twitter.com/telecomegypt/status/1657362106499358720',\n",
      " 'https://twitter.com/telecomegypt/status/1657416683009503233'}\n"
     ]
    }
   ],
   "source": [
    "# all_anchors = [*set(all_anchors)]\n",
    "pprint(all_anchors )\n"
   ]
  },
  {
   "cell_type": "code",
   "execution_count": 69,
   "metadata": {},
   "outputs": [
    {
     "data": {
      "text/plain": [
       "'1649503624618299392'"
      ]
     },
     "execution_count": 69,
     "metadata": {},
     "output_type": "execute_result"
    }
   ],
   "source": [
    "import re\n",
    "\n",
    "string = \"https://twitter.com/telecomegypt/status/1649503624618299392\"\n",
    "result = re.findall(r\"/(\\d+)\", string)[-1]\n",
    "result"
   ]
  },
  {
   "cell_type": "code",
   "execution_count": 13,
   "metadata": {},
   "outputs": [
    {
     "name": "stdout",
     "output_type": "stream",
     "text": [
      "سوبر كيكس\n",
      " اجمد نظام كنترول هيشهيصك مكالمات وانترنت انت وعيلتك،\n",
      "دة غير ان ال ٣ ميجا ب كيكس عالسوشيال\n",
      "وكمان فيسبوك و واتساب وانستجرام ببلاش \n",
      "سوبر كيكس شهيصه\n",
      "\n",
      "للاشتراك في سوبر كيكس اطلب #707*\n",
      "عشان تشوف الأغنية كامله على قناتنا على Youtube من خلال : https://youtu.be/AhTfoeBlzAg\n",
      "\n",
      "أعرف أكتر : https://te.eg/sl/SuperKix\n",
      "ابعت 5 في رسالة ل 7777 ببلاش و خلي أغنية هتشهيص كول تونك \n",
      "\n",
      "تطبق الشروط والأحكام\n",
      "رقم التسجيل الضريبي : 895-292-100\n",
      "\n",
      "#مروان_موسي\n",
      "#سوبر_كيكس\n",
      "#شهيصه\n",
      "#وي\n",
      "#غير_أي_حد\n",
      "Translate Tweet\n"
     ]
    }
   ],
   "source": [
    "driver.get(\"https://twitter.com/telecomegypt/status/1653020975359721473\")\n",
    "time.sleep(3)\n",
    "elements = driver.find_elements(by=By.XPATH, value='//*[@id=\"react-root\"]/div/div/div[2]/main/div/div/div/div/div/section/div/div/div[1]/div/div/article/div/div/div[3]/div[2]')\n",
    "for element in elements:\n",
    "    print(element.text)"
   ]
  },
  {
   "cell_type": "code",
   "execution_count": 24,
   "metadata": {},
   "outputs": [
    {
     "name": "stdout",
     "output_type": "stream",
     "text": [
      "https://twitter.com/ARefaai84\n",
      "ARefaai84\n"
     ]
    }
   ],
   "source": [
    "elements = driver.find_elements(by=By.XPATH, value='/html/body/div[1]/div/div/div[2]/main/div/div/div/div/div/section/div/div/div[11]/div/div/article/div/div/div[2]/div[2]/div[1]/div/div[1]/div/div/div[1]/div/a')\n",
    "for element in elements:\n",
    "    print(element.get_attribute('href'))\n",
    "    print(element.text)"
   ]
  },
  {
   "cell_type": "code",
   "execution_count": 27,
   "metadata": {},
   "outputs": [],
   "source": [
    "replies = set()\n",
    "users = set()\n",
    "replies_length = 0\n",
    "\n",
    "for i in range(100):\n",
    "    \n",
    "    driver.find_element(by=By.TAG_NAME, value='body').send_keys(Keys.PAGE_DOWN)\n",
    "    driver.find_element(by=By.TAG_NAME, value='body').send_keys(Keys.PAGE_DOWN)\n",
    "    \n",
    "    for i in range(1, 50):\n",
    "        # print(i)\n",
    "        user_elements = driver.find_elements(by=By.XPATH, value=f'/html/body/div[1]/div/div/div[2]/main/div/div/div/div/div/section/div/div/div[{i}]/div/div/article/div/div/div[2]/div[2]/div[1]/div/div[1]/div/div/div[1]/div/a')\n",
    "        reply_elements = driver.find_elements(by=By.XPATH, value=f'/html/body/div[1]/div/div/div[2]/main/div/div/div/div/div/section/div/div/div[{i}]/div/div/article/div/div/div[2]/div[2]/div[2]/div')\n",
    "            \n",
    "        for element in reply_elements:\n",
    "            replies.add(element.text)\n",
    "            \n",
    "        for element in user_elements:\n",
    "            users.add(element.get_attribute('href'))\n",
    "        \n",
    "    if len(replies) == replies_length:\n",
    "        break\n",
    "    else:\n",
    "        replies_length = len(replies)\n",
    "            \n",
    "    "
   ]
  },
  {
   "cell_type": "code",
   "execution_count": 28,
   "metadata": {},
   "outputs": [
    {
     "name": "stdout",
     "output_type": "stream",
     "text": [
      "{'We apologize to you, regret, and we confirm that we are available to help '\n",
      " 'and we are interested in solving your problem. Can we send your information '\n",
      " 'from DM so that we can help you? The Social Media Team, Telecom Egypt WE\\n'\n",
      " 'M.S',\n",
      " 'أهلا بحضرتك يافندم يسعدنا خدمة حضرتك \\n'\n",
      " 'تم الرد على ال DM\\n'\n",
      " '\" فريق السوشيال ميديا ,  المصرية للاتصالات WE\\n'\n",
      " 'MK',\n",
      " 'الشركة دى جميلة قوى بعتولى رسالة الساعة ٦:٠٤ م ان الخدمة اشتغلت روحت لقيتها '\n",
      " 'مشتغلتش كلمتهم قلولى فعلا الخدمة قاطعة عندك من الساعة ٦:١١م عشان فى تحدثات '\n",
      " 'مع انها كانت قاطعة بقالها اسبوع عشان التحديثات شغالوها ٧ دقايق  عدو حدود '\n",
      " 'المنطق',\n",
      " 'انتوا شركة فااااشلة\\n'\n",
      " 'أكتر من ١٥ يوم عندي مشكلة وقدمت بدل الشكوى ٥ وكل مرة ٣ ايام وتتحل ولا فيه '\n",
      " 'حل\\n'\n",
      " '#فشل',\n",
      " 'اهلا وسهلا بحضرتك استاذ احمد بنعتذر جدا عن اي مشكلة حضرتك بتواجهها وخليك '\n",
      " 'متاكد اننا موجودين علشان نساعدك في اي امر , ممكن توضيح بيانات حضرتك الرقم '\n",
      " 'الارضي والموبايل من خلال ال DM وهنساعدك حالا \\n'\n",
      " 'فريق السوشيال ميديا , المصرية للاتصالات WE\\n'\n",
      " 'MG',\n",
      " 'بنعتذر لحضرتك يافندم وبنأكد اننا موجودين للمساعدة ويهمنا اننا نحل مشكلة '\n",
      " 'حضرتك هيتم التواصل مع حضرتك     فريق السوشيال ميديا ,  المصرية للاتصالات WE\\n'\n",
      " 'EA',\n",
      " 'لو سمحت عايز اسجل شكوى في موظفين سنترال كوم اوشيم وجميع العاملين لاني اعاني '\n",
      " 'من تعنتهم معي والانترنت مقطوع عندي منذ ثالث ايام العيد ولا استجابة',\n",
      " 'هو مش المفروض لما اشحن الباقة في معدها ويكون متبقي معايا جيجا من الشهر الفات '\n",
      " 'تترحل هو ليه الجيجات راحت عليا رغم ان شاحن قبله ليوم كا معايا 17 جيجا ليه '\n",
      " 'راحو لو هو كده اقسم بالله الغي الاشتراك الشهري الجاي 01553416377'}\n"
     ]
    }
   ],
   "source": [
    "pprint(replies)"
   ]
  },
  {
   "cell_type": "code",
   "execution_count": 29,
   "metadata": {},
   "outputs": [
    {
     "name": "stdout",
     "output_type": "stream",
     "text": [
      "{'https://twitter.com/ARefaai84',\n",
      " 'https://twitter.com/Mido45811693620',\n",
      " 'https://twitter.com/ahmed_houssny',\n",
      " 'https://twitter.com/ono2018',\n",
      " 'https://twitter.com/telecomegypt'}\n"
     ]
    }
   ],
   "source": [
    "pprint(users)"
   ]
  },
  {
   "cell_type": "code",
   "execution_count": 39,
   "metadata": {},
   "outputs": [
    {
     "name": "stdout",
     "output_type": "stream",
     "text": [
      "Something went wrong, but don’t fret — let’s give it another shot.Try again\n",
      "Something went wrong, but don’t fret — let’s give it another shot.Try again\n",
      "\n",
      "Something went wrong, but don’t fret — let’s give it another shot.Try again\n",
      "Something went wrong, but don’t fret — let’s give it another shot.Try again\n",
      "Try again\n"
     ]
    }
   ],
   "source": [
    "\n",
    "import requests\n",
    "from bs4 import BeautifulSoup\n",
    "\n",
    "response = requests.get(\"https://twitter.com/telecomegypt/status/1649503624618299392\")\n",
    "soup = BeautifulSoup(response.text, \"lxml\")\n",
    "poem = soup.find_all('div', class_='css-1dbjc4n')\n",
    "for element in poem:\n",
    "    print(element.get_text())\n"
   ]
  },
  {
   "cell_type": "code",
   "execution_count": 37,
   "metadata": {},
   "outputs": [
    {
     "data": {
      "text/plain": [
       "[<div class=\"css-1dbjc4n r-13awgt0 r-12vffkv\"><div class=\"css-1dbjc4n r-13awgt0 r-12vffkv\"><div aria-label=\"Loading…\" class=\"css-1dbjc4n r-14lw9ot r-1p0dtai r-1d2f490 r-1xcajam r-zchlnj r-ipm5af\" id=\"placeholder\"><svg aria-hidden=\"true\" class=\"r-1p0dtai r-13gxpu9 r-4qtqp9 r-yyyyoo r-wy61xf r-1d2f490 r-ywje51 r-dnmrzs r-u8s1d r-zchlnj r-1plcrui r-ipm5af r-lrvibr r-1blnp2b\" viewbox=\"0 0 24 24\"><g><path d=\"M23.643 4.937c-.835.37-1.732.62-2.675.733.962-.576 1.7-1.49 2.048-2.578-.9.534-1.897.922-2.958 1.13-.85-.904-2.06-1.47-3.4-1.47-2.572 0-4.658 2.086-4.658 4.66 0 .364.042.718.12 1.06-3.873-.195-7.304-2.05-9.602-4.868-.4.69-.63 1.49-.63 2.342 0 1.616.823 3.043 2.072 3.878-.764-.025-1.482-.234-2.11-.583v.06c0 2.257 1.605 4.14 3.737 4.568-.392.106-.803.162-1.227.162-.3 0-.593-.028-.877-.082.593 1.85 2.313 3.198 4.352 3.234-1.595 1.25-3.604 1.995-5.786 1.995-.376 0-.747-.022-1.112-.065 2.062 1.323 4.51 2.093 7.14 2.093 8.57 0 13.255-7.098 13.255-13.254 0-.2-.005-.402-.014-.602.91-.658 1.7-1.477 2.323-2.41z\"></path></g></svg></div><div class=\"css-1dbjc4n r-hvic4v r-1d2f490 r-1xcajam r-zchlnj r-1ykxob0\" id=\"ScriptLoadFailure\"><form action=\"\" method=\"GET\"><div class=\"css-1dbjc4n r-1awozwy r-q4m81j\"><div class=\"css-901oao r-37j5jr r-a023e6 r-16dba41 r-rjixqe r-bcqeeo r-qvutc0\" dir=\"ltr\" style=\"color:rgba(15,20,25,1.00)\"><span class=\"css-901oao css-16my406 r-poiln3 r-bcqeeo r-qvutc0\">Something went wrong, but don’t fret — let’s give it another shot.</span></div><br/><input name=\"failedScript\" type=\"hidden\" value=\"\"/><button style=\"background:transparent;border:none\" type=\"submit\"><div class=\"css-18t94o4 css-1dbjc4n r-sdzlij r-1phboty r-rs99b7 r-2yi16 r-1qi8awa r-1ny4l3l r-ymttw5 r-o7ynqc r-6416eg r-lrvibr\" role=\"button\" style=\"background-color:rgba(15,20,25,1.00);border-top-color:rgba(0,0,0,0.00);border-right-color:rgba(0,0,0,0.00);border-bottom-color:rgba(0,0,0,0.00);border-left-color:rgba(0,0,0,0.00)\" tabindex=\"0\"><div class=\"css-901oao r-1awozwy r-6koalj r-18u37iz r-16y2uox r-37j5jr r-a023e6 r-b88u0q r-1777fci r-rjixqe r-bcqeeo r-q4m81j r-qvutc0\" dir=\"ltr\" style=\"color:rgba(255,255,255,1.00)\"><span class=\"css-901oao css-16my406 css-1hf3ou5 r-poiln3 r-a023e6 r-rjixqe r-bcqeeo r-qvutc0\"><span class=\"css-901oao css-16my406 r-poiln3 r-bcqeeo r-qvutc0\">Try again</span></span></div></div></button></div></form></div></div></div>,\n",
       " <div class=\"css-1dbjc4n r-13awgt0 r-12vffkv\"><div aria-label=\"Loading…\" class=\"css-1dbjc4n r-14lw9ot r-1p0dtai r-1d2f490 r-1xcajam r-zchlnj r-ipm5af\" id=\"placeholder\"><svg aria-hidden=\"true\" class=\"r-1p0dtai r-13gxpu9 r-4qtqp9 r-yyyyoo r-wy61xf r-1d2f490 r-ywje51 r-dnmrzs r-u8s1d r-zchlnj r-1plcrui r-ipm5af r-lrvibr r-1blnp2b\" viewbox=\"0 0 24 24\"><g><path d=\"M23.643 4.937c-.835.37-1.732.62-2.675.733.962-.576 1.7-1.49 2.048-2.578-.9.534-1.897.922-2.958 1.13-.85-.904-2.06-1.47-3.4-1.47-2.572 0-4.658 2.086-4.658 4.66 0 .364.042.718.12 1.06-3.873-.195-7.304-2.05-9.602-4.868-.4.69-.63 1.49-.63 2.342 0 1.616.823 3.043 2.072 3.878-.764-.025-1.482-.234-2.11-.583v.06c0 2.257 1.605 4.14 3.737 4.568-.392.106-.803.162-1.227.162-.3 0-.593-.028-.877-.082.593 1.85 2.313 3.198 4.352 3.234-1.595 1.25-3.604 1.995-5.786 1.995-.376 0-.747-.022-1.112-.065 2.062 1.323 4.51 2.093 7.14 2.093 8.57 0 13.255-7.098 13.255-13.254 0-.2-.005-.402-.014-.602.91-.658 1.7-1.477 2.323-2.41z\"></path></g></svg></div><div class=\"css-1dbjc4n r-hvic4v r-1d2f490 r-1xcajam r-zchlnj r-1ykxob0\" id=\"ScriptLoadFailure\"><form action=\"\" method=\"GET\"><div class=\"css-1dbjc4n r-1awozwy r-q4m81j\"><div class=\"css-901oao r-37j5jr r-a023e6 r-16dba41 r-rjixqe r-bcqeeo r-qvutc0\" dir=\"ltr\" style=\"color:rgba(15,20,25,1.00)\"><span class=\"css-901oao css-16my406 r-poiln3 r-bcqeeo r-qvutc0\">Something went wrong, but don’t fret — let’s give it another shot.</span></div><br/><input name=\"failedScript\" type=\"hidden\" value=\"\"/><button style=\"background:transparent;border:none\" type=\"submit\"><div class=\"css-18t94o4 css-1dbjc4n r-sdzlij r-1phboty r-rs99b7 r-2yi16 r-1qi8awa r-1ny4l3l r-ymttw5 r-o7ynqc r-6416eg r-lrvibr\" role=\"button\" style=\"background-color:rgba(15,20,25,1.00);border-top-color:rgba(0,0,0,0.00);border-right-color:rgba(0,0,0,0.00);border-bottom-color:rgba(0,0,0,0.00);border-left-color:rgba(0,0,0,0.00)\" tabindex=\"0\"><div class=\"css-901oao r-1awozwy r-6koalj r-18u37iz r-16y2uox r-37j5jr r-a023e6 r-b88u0q r-1777fci r-rjixqe r-bcqeeo r-q4m81j r-qvutc0\" dir=\"ltr\" style=\"color:rgba(255,255,255,1.00)\"><span class=\"css-901oao css-16my406 css-1hf3ou5 r-poiln3 r-a023e6 r-rjixqe r-bcqeeo r-qvutc0\"><span class=\"css-901oao css-16my406 r-poiln3 r-bcqeeo r-qvutc0\">Try again</span></span></div></div></button></div></form></div></div>,\n",
       " <div aria-label=\"Loading…\" class=\"css-1dbjc4n r-14lw9ot r-1p0dtai r-1d2f490 r-1xcajam r-zchlnj r-ipm5af\" id=\"placeholder\"><svg aria-hidden=\"true\" class=\"r-1p0dtai r-13gxpu9 r-4qtqp9 r-yyyyoo r-wy61xf r-1d2f490 r-ywje51 r-dnmrzs r-u8s1d r-zchlnj r-1plcrui r-ipm5af r-lrvibr r-1blnp2b\" viewbox=\"0 0 24 24\"><g><path d=\"M23.643 4.937c-.835.37-1.732.62-2.675.733.962-.576 1.7-1.49 2.048-2.578-.9.534-1.897.922-2.958 1.13-.85-.904-2.06-1.47-3.4-1.47-2.572 0-4.658 2.086-4.658 4.66 0 .364.042.718.12 1.06-3.873-.195-7.304-2.05-9.602-4.868-.4.69-.63 1.49-.63 2.342 0 1.616.823 3.043 2.072 3.878-.764-.025-1.482-.234-2.11-.583v.06c0 2.257 1.605 4.14 3.737 4.568-.392.106-.803.162-1.227.162-.3 0-.593-.028-.877-.082.593 1.85 2.313 3.198 4.352 3.234-1.595 1.25-3.604 1.995-5.786 1.995-.376 0-.747-.022-1.112-.065 2.062 1.323 4.51 2.093 7.14 2.093 8.57 0 13.255-7.098 13.255-13.254 0-.2-.005-.402-.014-.602.91-.658 1.7-1.477 2.323-2.41z\"></path></g></svg></div>,\n",
       " <div class=\"css-1dbjc4n r-hvic4v r-1d2f490 r-1xcajam r-zchlnj r-1ykxob0\" id=\"ScriptLoadFailure\"><form action=\"\" method=\"GET\"><div class=\"css-1dbjc4n r-1awozwy r-q4m81j\"><div class=\"css-901oao r-37j5jr r-a023e6 r-16dba41 r-rjixqe r-bcqeeo r-qvutc0\" dir=\"ltr\" style=\"color:rgba(15,20,25,1.00)\"><span class=\"css-901oao css-16my406 r-poiln3 r-bcqeeo r-qvutc0\">Something went wrong, but don’t fret — let’s give it another shot.</span></div><br/><input name=\"failedScript\" type=\"hidden\" value=\"\"/><button style=\"background:transparent;border:none\" type=\"submit\"><div class=\"css-18t94o4 css-1dbjc4n r-sdzlij r-1phboty r-rs99b7 r-2yi16 r-1qi8awa r-1ny4l3l r-ymttw5 r-o7ynqc r-6416eg r-lrvibr\" role=\"button\" style=\"background-color:rgba(15,20,25,1.00);border-top-color:rgba(0,0,0,0.00);border-right-color:rgba(0,0,0,0.00);border-bottom-color:rgba(0,0,0,0.00);border-left-color:rgba(0,0,0,0.00)\" tabindex=\"0\"><div class=\"css-901oao r-1awozwy r-6koalj r-18u37iz r-16y2uox r-37j5jr r-a023e6 r-b88u0q r-1777fci r-rjixqe r-bcqeeo r-q4m81j r-qvutc0\" dir=\"ltr\" style=\"color:rgba(255,255,255,1.00)\"><span class=\"css-901oao css-16my406 css-1hf3ou5 r-poiln3 r-a023e6 r-rjixqe r-bcqeeo r-qvutc0\"><span class=\"css-901oao css-16my406 r-poiln3 r-bcqeeo r-qvutc0\">Try again</span></span></div></div></button></div></form></div>,\n",
       " <div class=\"css-1dbjc4n r-1awozwy r-q4m81j\"><div class=\"css-901oao r-37j5jr r-a023e6 r-16dba41 r-rjixqe r-bcqeeo r-qvutc0\" dir=\"ltr\" style=\"color:rgba(15,20,25,1.00)\"><span class=\"css-901oao css-16my406 r-poiln3 r-bcqeeo r-qvutc0\">Something went wrong, but don’t fret — let’s give it another shot.</span></div><br/><input name=\"failedScript\" type=\"hidden\" value=\"\"/><button style=\"background:transparent;border:none\" type=\"submit\"><div class=\"css-18t94o4 css-1dbjc4n r-sdzlij r-1phboty r-rs99b7 r-2yi16 r-1qi8awa r-1ny4l3l r-ymttw5 r-o7ynqc r-6416eg r-lrvibr\" role=\"button\" style=\"background-color:rgba(15,20,25,1.00);border-top-color:rgba(0,0,0,0.00);border-right-color:rgba(0,0,0,0.00);border-bottom-color:rgba(0,0,0,0.00);border-left-color:rgba(0,0,0,0.00)\" tabindex=\"0\"><div class=\"css-901oao r-1awozwy r-6koalj r-18u37iz r-16y2uox r-37j5jr r-a023e6 r-b88u0q r-1777fci r-rjixqe r-bcqeeo r-q4m81j r-qvutc0\" dir=\"ltr\" style=\"color:rgba(255,255,255,1.00)\"><span class=\"css-901oao css-16my406 css-1hf3ou5 r-poiln3 r-a023e6 r-rjixqe r-bcqeeo r-qvutc0\"><span class=\"css-901oao css-16my406 r-poiln3 r-bcqeeo r-qvutc0\">Try again</span></span></div></div></button></div>,\n",
       " <div class=\"css-18t94o4 css-1dbjc4n r-sdzlij r-1phboty r-rs99b7 r-2yi16 r-1qi8awa r-1ny4l3l r-ymttw5 r-o7ynqc r-6416eg r-lrvibr\" role=\"button\" style=\"background-color:rgba(15,20,25,1.00);border-top-color:rgba(0,0,0,0.00);border-right-color:rgba(0,0,0,0.00);border-bottom-color:rgba(0,0,0,0.00);border-left-color:rgba(0,0,0,0.00)\" tabindex=\"0\"><div class=\"css-901oao r-1awozwy r-6koalj r-18u37iz r-16y2uox r-37j5jr r-a023e6 r-b88u0q r-1777fci r-rjixqe r-bcqeeo r-q4m81j r-qvutc0\" dir=\"ltr\" style=\"color:rgba(255,255,255,1.00)\"><span class=\"css-901oao css-16my406 css-1hf3ou5 r-poiln3 r-a023e6 r-rjixqe r-bcqeeo r-qvutc0\"><span class=\"css-901oao css-16my406 r-poiln3 r-bcqeeo r-qvutc0\">Try again</span></span></div></div>]"
      ]
     },
     "execution_count": 37,
     "metadata": {},
     "output_type": "execute_result"
    }
   ],
   "source": [
    "poem"
   ]
  },
  {
   "cell_type": "code",
   "execution_count": 41,
   "metadata": {},
   "outputs": [
    {
     "name": "stdout",
     "output_type": "stream",
     "text": [
      "2023-05-03\n"
     ]
    }
   ],
   "source": [
    "from datetime import datetime\n",
    "\n",
    "date_string = \"2:06 PM · May 3, 2023\"\n",
    "date_object = datetime.strptime(date_string, \"%I:%M %p · %b %d, %Y\")\n",
    "formatted_date = date_object.strftime(\"%Y-%m-%d\")\n",
    "\n",
    "print(formatted_date)"
   ]
  },
  {
   "cell_type": "code",
   "execution_count": 8,
   "metadata": {},
   "outputs": [
    {
     "name": "stdout",
     "output_type": "stream",
     "text": [
      "This code will continue to run while the scheduled function waits to be called.\n"
     ]
    }
   ],
   "source": [
    "import sched\n",
    "import threading\n",
    "import time\n",
    "\n",
    "# Define the function to be called\n",
    "def test_func():\n",
    "    print(\"Hello, world!\")\n",
    "\n",
    "# Define the date and time for the function call\n",
    "scheduled_date = time.strptime(\"2023-05-20 10:17:00\", \"%Y-%m-%d %H:%M:%S\")\n",
    "\n",
    "\n",
    "\n",
    "# Define a function that will run the scheduler in a new thread\n",
    "def run_scheduler():\n",
    "    # Create a new scheduler\n",
    "    scheduler = sched.scheduler(time.time, time.sleep)\n",
    "\n",
    "    # Schedule the function call\n",
    "    scheduler.enterabs(time.mktime(scheduled_date), 1, test_func, ())\n",
    "\n",
    "    # Start the scheduler\n",
    "    scheduler.run()\n",
    "    \n",
    "# Start the scheduler in a new thread\n",
    "scheduler_thread = threading.Thread(target=run_scheduler)\n",
    "scheduler_thread.start()\n",
    "\n",
    "# The rest of your script can continue executing here\n",
    "print(\"This code will continue to run while the scheduled function waits to be called.\")\n"
   ]
  },
  {
   "cell_type": "code",
   "execution_count": 7,
   "metadata": {},
   "outputs": [
    {
     "name": "stdout",
     "output_type": "stream",
     "text": [
      "This code will continue to run while the scheduled function waits to be called.\n"
     ]
    }
   ],
   "source": []
  },
  {
   "cell_type": "code",
   "execution_count": null,
   "metadata": {},
   "outputs": [],
   "source": [
    "\n",
    "\n",
    "# The rest of your script can continue executing here\n",
    "print(\"This code will continue to run while the scheduled function waits to be called.\")\n",
    "\n",
    "\n",
    "\n"
   ]
  }
 ],
 "metadata": {
  "kernelspec": {
   "display_name": ".venv",
   "language": "python",
   "name": "python3"
  },
  "language_info": {
   "codemirror_mode": {
    "name": "ipython",
    "version": 3
   },
   "file_extension": ".py",
   "mimetype": "text/x-python",
   "name": "python",
   "nbconvert_exporter": "python",
   "pygments_lexer": "ipython3",
   "version": "3.9.13"
  },
  "orig_nbformat": 4
 },
 "nbformat": 4,
 "nbformat_minor": 2
}
